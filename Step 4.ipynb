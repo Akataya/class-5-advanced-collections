{
 "cells": [
  {
   "cell_type": "markdown",
   "metadata": {},
   "source": [
    "## Step 4: Calculate total per invoice per customer\n",
    "\n",
    "Now we're ready to run some calculations. Your job is to calculate each invoice's total and return them grouped by customer:\n",
    "\n",
    "![image](https://user-images.githubusercontent.com/872296/36392376-b3ff802a-1589-11e8-887e-43c9b6faf80d.png)"
   ]
  },
  {
   "cell_type": "markdown",
   "metadata": {},
   "source": [
    "The result will look something like:"
   ]
  },
  {
   "cell_type": "code",
   "execution_count": 1,
   "metadata": {},
   "outputs": [
    {
     "data": {
      "text/plain": [
       "{'17850': {'536365': 139.12, '536366': 22.2, '536372': 22.2, '536373': 15.3},\n",
       " '13047': {'536367': 278.73, '536368': 70.05, '536369': 17.85},\n",
       " '12583': {'536370': 855.86},\n",
       " '13748': {'536371': 204}}"
      ]
     },
     "execution_count": 1,
     "metadata": {},
     "output_type": "execute_result"
    }
   ],
   "source": [
    "{\n",
    "    '17850': {  # Customer ID\n",
    "        '536365': 139.12,  # Total for Invoice ID #536365\n",
    "        '536366': 22.20,\n",
    "        '536372': 22.20,\n",
    "        '536373': 15.30,\n",
    "    },\n",
    "    '13047': {\n",
    "        '536367': 278.73,\n",
    "        '536368': 70.05,\n",
    "        '536369': 17.85,\n",
    "    },\n",
    "    '12583': {\n",
    "        '536370': 855.86\n",
    "    },\n",
    "    '13748': {\n",
    "        '536371': 204\n",
    "    }\n",
    "}"
   ]
  },
  {
   "cell_type": "markdown",
   "metadata": {},
   "source": [
    "### Writing the function\n",
    "\n",
    "Now it's time to implement the function `calculate_total_per_invoices`. For the following list of products:"
   ]
  },
  {
   "cell_type": "code",
   "execution_count": 15,
   "metadata": {},
   "outputs": [],
   "source": [
    "products_string = \"\"\"\n",
    "536364,85123A,WHITE HANGING HEART T-LIGHT HOLDER,6,12/1/10 08:26,2.55,17850,United Kingdom\n",
    "\n",
    "536365,71053,WHITE METAL LANTERN,6,12/1/10 08:26,3.50,17850,United Kingdom\n",
    "536365,84406B,CREAM CUPID HEARTS COAT HANGER,8,12/1/10 08:26,2.75,17850,United Kingdom\n",
    "536365,84029G,KNITTED UNION FLAG HOT WATER BOTTLE,6,12/1/10 08:26,3.50,17850,United Kingdom\n",
    "536365,84029E,RED WOOLLY HOTTIE WHITE HEART.,6,12/1/10 08:26,3.50,17850,United Kingdom\n",
    "\n",
    "\n",
    "536366,22752,SET 7 BABUSHKA NESTING BOXES,2,12/1/10 08:26,7.65,17851,United Kingdom\n",
    "536366,21730,GLASS STAR FROSTED T-LIGHT HOLDER,6,12/1/10 08:26,4.25,17851,United Kingdom\n",
    "536366,22633,HAND WARMER UNION JACK,6,12/1/10 08:28,1.85,17851,United Kingdom\n",
    "536366,22632,HAND WARMER RED POLKA DOT,6,12/1/10 08:28,1.85,17851,United Kingdom\n",
    "\n",
    "\"\"\""
   ]
  },
  {
   "cell_type": "markdown",
   "metadata": {},
   "source": [
    "The expected result is:"
   ]
  },
  {
   "cell_type": "code",
   "execution_count": 21,
   "metadata": {},
   "outputs": [
    {
     "data": {
      "text/plain": [
       "{'17850': {'536364': 15.3, '536365': 85.0}, '17851': {'536366': 63.0}}"
      ]
     },
     "execution_count": 21,
     "metadata": {},
     "output_type": "execute_result"
    }
   ],
   "source": [
    "{\n",
    "  '17850': {\n",
    "    '536364': 15.3,\n",
    "    '536365': 85.0\n",
    "  },\n",
    "  '17851': {\n",
    "    '536366': 63.0\n",
    "  }\n",
    "}"
   ]
  },
  {
   "cell_type": "code",
   "execution_count": 16,
   "metadata": {},
   "outputs": [],
   "source": [
    "from step_1 import transform_products_to_list"
   ]
  },
  {
   "cell_type": "code",
   "execution_count": 22,
   "metadata": {},
   "outputs": [],
   "source": [
    "def calculate_total_per_invoices(products_string):\n",
    "    pass"
   ]
  },
  {
   "cell_type": "code",
   "execution_count": 20,
   "metadata": {},
   "outputs": [],
   "source": [
    "assert calculate_total_per_invoices(products_string) == {\n",
    "  '17850': {\n",
    "    '536364': 15.3,\n",
    "    '536365': 85.0\n",
    "  },\n",
    "  '17851': {\n",
    "    '536366': 63.0\n",
    "  }\n",
    "}"
   ]
  },
  {
   "cell_type": "markdown",
   "metadata": {},
   "source": [
    "### Done? Run the tests!\n",
    "\n",
    "If you're done with your solution, copy the function inside `step_4.py` and run the tests to verify everything is working:\n",
    "\n",
    "```bash\n",
    "$ py.test tests.py -k step_4\n",
    "```"
   ]
  }
 ],
 "metadata": {
  "kernelspec": {
   "display_name": "Python 3",
   "language": "python",
   "name": "python3"
  },
  "language_info": {
   "codemirror_mode": {
    "name": "ipython",
    "version": 3
   },
   "file_extension": ".py",
   "mimetype": "text/x-python",
   "name": "python",
   "nbconvert_exporter": "python",
   "pygments_lexer": "ipython3",
   "version": "3.6.6"
  }
 },
 "nbformat": 4,
 "nbformat_minor": 2
}
