{
 "cells": [
  {
   "cell_type": "markdown",
   "metadata": {},
   "source": [
    "### Step 2: Solution"
   ]
  },
  {
   "cell_type": "code",
   "execution_count": 4,
   "metadata": {},
   "outputs": [],
   "source": [
    "products = [\n",
    "  [\n",
    "    '536365', # Invoice Number\n",
    "    '85123A', # Stock Code\n",
    "    'WHITE HANGING HEART T-LIGHT HOLDER', # Description\n",
    "    '6', # Quantity \n",
    "    '12/1/10 08:26', # Invoice Date\n",
    "    '2.55', # Unit Price\n",
    "    '17850', # Customer ID\n",
    "    'United Kingdom' # Country\n",
    "  ],\n",
    "  [\n",
    "    '536365',\n",
    "    '71053',\n",
    "    'WHITE METAL LANTERN',\n",
    "    '6',\n",
    "    '12/1/10 08:26',\n",
    "    '3.39',\n",
    "    '17851',\n",
    "    'United Kingdom'\n",
    "  ],\n",
    "]"
   ]
  },
  {
   "cell_type": "markdown",
   "metadata": {},
   "source": [
    "The result of this exercis will be a dictionary grouped by customers, the first step will be initializing an empty dict:"
   ]
  },
  {
   "cell_type": "code",
   "execution_count": 5,
   "metadata": {},
   "outputs": [],
   "source": [
    "customers = {}"
   ]
  },
  {
   "cell_type": "markdown",
   "metadata": {},
   "source": [
    "We can now iterate over the products and extract the customer. The customer is in the position `-2`:"
   ]
  },
  {
   "cell_type": "code",
   "execution_count": 6,
   "metadata": {},
   "outputs": [
    {
     "name": "stdout",
     "output_type": "stream",
     "text": [
      "17850\n",
      "17851\n"
     ]
    }
   ],
   "source": [
    "for product in products:\n",
    "    customer_id = product[-2]\n",
    "    print(customer_id)"
   ]
  },
  {
   "cell_type": "markdown",
   "metadata": {},
   "source": [
    "Now we can just check if the customer already had a list of products. If that's not the case, we should initialize the list as empty:"
   ]
  },
  {
   "cell_type": "code",
   "execution_count": 7,
   "metadata": {},
   "outputs": [],
   "source": [
    "for product in products:\n",
    "    customer_id = product[-2]\n",
    "    if customer_id not in customers:\n",
    "        customers[customer_id] = []\n",
    "    customers[customer_id].append(product)"
   ]
  },
  {
   "cell_type": "code",
   "execution_count": 9,
   "metadata": {},
   "outputs": [
    {
     "data": {
      "text/plain": [
       "{'17850': [['536365',\n",
       "   '85123A',\n",
       "   'WHITE HANGING HEART T-LIGHT HOLDER',\n",
       "   '6',\n",
       "   '12/1/10 08:26',\n",
       "   '2.55',\n",
       "   '17850',\n",
       "   'United Kingdom']],\n",
       " '17851': [['536365',\n",
       "   '71053',\n",
       "   'WHITE METAL LANTERN',\n",
       "   '6',\n",
       "   '12/1/10 08:26',\n",
       "   '3.39',\n",
       "   '17851',\n",
       "   'United Kingdom']]}"
      ]
     },
     "execution_count": 9,
     "metadata": {},
     "output_type": "execute_result"
    }
   ],
   "source": [
    "customers"
   ]
  },
  {
   "cell_type": "markdown",
   "metadata": {},
   "source": [
    "There's actually a better way, using setdefault:"
   ]
  },
  {
   "cell_type": "code",
   "execution_count": 10,
   "metadata": {},
   "outputs": [],
   "source": [
    "customers = {}"
   ]
  },
  {
   "cell_type": "code",
   "execution_count": 11,
   "metadata": {},
   "outputs": [],
   "source": [
    "for product in products:\n",
    "    customer_id = product[-2]\n",
    "    customers.setdefault(customer_id, [])\n",
    "    customers[customer_id].append(product)"
   ]
  },
  {
   "cell_type": "code",
   "execution_count": 12,
   "metadata": {},
   "outputs": [
    {
     "data": {
      "text/plain": [
       "{'17850': [['536365',\n",
       "   '85123A',\n",
       "   'WHITE HANGING HEART T-LIGHT HOLDER',\n",
       "   '6',\n",
       "   '12/1/10 08:26',\n",
       "   '2.55',\n",
       "   '17850',\n",
       "   'United Kingdom']],\n",
       " '17851': [['536365',\n",
       "   '71053',\n",
       "   'WHITE METAL LANTERN',\n",
       "   '6',\n",
       "   '12/1/10 08:26',\n",
       "   '3.39',\n",
       "   '17851',\n",
       "   'United Kingdom']]}"
      ]
     },
     "execution_count": 12,
     "metadata": {},
     "output_type": "execute_result"
    }
   ],
   "source": [
    "customers"
   ]
  }
 ],
 "metadata": {
  "kernelspec": {
   "display_name": "Python 3",
   "language": "python",
   "name": "python3"
  },
  "language_info": {
   "codemirror_mode": {
    "name": "ipython",
    "version": 3
   },
   "file_extension": ".py",
   "mimetype": "text/x-python",
   "name": "python",
   "nbconvert_exporter": "python",
   "pygments_lexer": "ipython3",
   "version": "3.6.6"
  }
 },
 "nbformat": 4,
 "nbformat_minor": 2
}
